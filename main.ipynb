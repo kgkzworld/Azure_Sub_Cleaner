{
 "cells": [
  {
   "cell_type": "markdown",
   "id": "7adb20cd-1586-4160-9540-90b1a777ca51",
   "metadata": {},
   "source": [
    "#### DESCRIPTION\n",
    "    Azure Subscription Cleanup Script\n",
    "\n",
    "    The script is designed for Subscription cleanup and maintenance based on the configuration file.\n",
    "\n",
    "    Configuration File:\n",
    "        The configuration file is a YAML file that will manage the settings for the script.\n",
    "        The configuration file will manage the following settings:\n",
    "            - Subscription Information\n",
    "            - Permissions\n",
    "            - Maintenance Window\n",
    "\n",
    "\t"
   ]
  },
  {
   "cell_type": "markdown",
   "id": "c2208c4e-e6d5-4f55-b59e-6d7d6e2959d1",
   "metadata": {},
   "source": [
    "#### NOTES\n",
    "\n",
    "**[Original Author]**\n",
    "* Michael Arroyo\n",
    "\n",
    "**[Original Build Version]**\n",
    "* 1.0.0.20241210 (Major.Minor.Patch.Date<YYYYMMDD>)\n",
    "\n",
    "**[Latest Author]**\n",
    "* Michael Arroyo\n",
    "\n",
    "**[Latest Build Version]**\n",
    "* 1.2.0.20241219 (Major.Minor.Patch.Date<YYYYMMDD>)\n",
    "\n",
    "**[Comments]**\n",
    "* .\n",
    "\n",
    "**[Python Compatibility / Tested On]**\n",
    "* Python 3.10.15\n",
    "\n",
    "**[Forked Project]**\n",
    "* .\n",
    "\n",
    "**[Dependencies]**\n",
    "* **pyyaml** # PyYAML is a YAML parser and emitter for Python\n",
    "* **rich** # Rich is a Python library for rich text and beautiful formatting in the terminal\n",
    "* **az** # The az module is a wrapper for the Azure CLI\n",
    "* **os** # The os module provides a way to use operating system dependent functionality\n",
    "* **classes.class_cloudobj** # Import the CloudObj class from the class_cloudobj.py file\n",
    "* **classes.class_maintenance** # Import the MaintenanceObj class from the class_maintenance\n",
    "* **classes.class_removalobj** # Import the RemovalObj class from the class_removalobj.py file\n",
    "* **timestamp** # Import the timestamp function from the timestamp.py file\n",
    "* **argparse** # The argparse module makes it easy to write user-friendly command-line interfaces\n",
    "* **isNotebook** # Import the is_notebook detection method from the isNotebook.py file"
   ]
  },
  {
   "cell_type": "markdown",
   "id": "617c23b1-3fff-44c7-9ac8-7bdb50291c54",
   "metadata": {},
   "source": [
    "#### Build Notes\n",
    "\n",
    "* 1.0.0.20241210\n",
    "    * [Michael Arroyo] Initial Build\n",
    "* 1.1.0.20241216\n",
    "    * [Michael Arroyo] Port main.py to Jupyter Notebook\n",
    "    * [Michael Arroyo] Update main.py as the Jupyter Notebook caller while passing the necessary parameters\n",
    "* 1.2.0.20241219\n",
    "    * [Michael Arroyo] Add support for Jupyter Notebook detection\n",
    "    * [Michael Arroyo] Add Mockup variables to use while only in the Jupyter Notebook\n",
    "    * [Michael Arroyo] Save output to notebook"
   ]
  },
  {
   "cell_type": "markdown",
   "id": "a9d21d55-1e18-4110-9a85-04e074775c18",
   "metadata": {},
   "source": [
    "#### Examples\n",
    "\n",
    "* *EXAMPLE*\n",
    "    * **Command**: python main.py --config ./config/Ares-Sec-Blue.yaml\n",
    "    * **Description**: Run the cleanup script using the Ares-Sec-Blue configuration file\n",
    "    * **Notes**: The process uses ipython as the core interpreter for the Jupyter notebook.\n",
    "    * **Output**: N/A\n",
    "<br></br>\n",
    "* *EXAMPLE*\n",
    "    * **Command**: jupyter nbconvert --to python --execute main.ipynb --output main_notebook.py && python main_notebook.py --config ./config/Ares-Sec-Blue.yaml && rm main_notebook.py\n",
    "    * **Description**: Run the cleanup script using the Ares-Sec-Blue configuration file\n",
    "    * **Notes**: Convert the Jupyter notebook to a Python file, Using Python run the Python script with the necessary arguments.  Remove the file after a successful return.\n",
    "    * **Output**:"
   ]
  },
  {
   "cell_type": "markdown",
   "id": "5d09f9fc-da50-4078-b852-8dd49d731b0b",
   "metadata": {},
   "source": [
    "***Import Core Modules***"
   ]
  },
  {
   "cell_type": "code",
   "execution_count": 1,
   "id": "ecf55fbe-80c2-457a-9121-a975ddcbfa73",
   "metadata": {},
   "outputs": [],
   "source": [
    "from pathlib import Path\n",
    "import os\n",
    "import argparse"
   ]
  },
  {
   "cell_type": "markdown",
   "id": "f3ba2d11-011a-43c6-a31c-ee976cf5413e",
   "metadata": {},
   "source": [
    "***Import Third-Party Modules***"
   ]
  },
  {
   "cell_type": "code",
   "execution_count": 2,
   "id": "7243576a-c0bc-449f-8b6f-30f5542d2694",
   "metadata": {},
   "outputs": [],
   "source": [
    "import yaml\n",
    "from rich import print\n",
    "from az.cli import az\n",
    "from time import gmtime, strftime"
   ]
  },
  {
   "cell_type": "markdown",
   "id": "892e2d73-2855-4733-bdb5-381ab4e18eb7",
   "metadata": {},
   "source": [
    "***Import Custom Modules and Classes***"
   ]
  },
  {
   "cell_type": "code",
   "execution_count": 6,
   "id": "d8bfab5e-f4fb-4b82-9141-7ba34f1a8c49",
   "metadata": {},
   "outputs": [],
   "source": [
    "from classes.class_cloudobj import CloudObj\n",
    "from classes.class_maintenanceobj import MaintenanceObj\n",
    "from classes.class_removalobj import RemovalObj\n",
    "from bin.timestamp import timestamp\n",
    "from bin.isNotebook import is_notebook"
   ]
  },
  {
   "cell_type": "markdown",
   "id": "7f9d0092-770e-43f5-851b-b98564213126",
   "metadata": {},
   "source": [
    "***Set Script Variables***"
   ]
  },
  {
   "cell_type": "markdown",
   "id": "7f533053",
   "metadata": {},
   "source": [
    "**Note**:  If you are running this session as a Mockup to test the notebook.  You will have to declare that s_config and s_bypass variables.  These variables are queried from the session environment variables or updated via the main.py at runtime.  This section will only run if your running the code in an interactive Jupyter Notebook session."
   ]
  },
  {
   "cell_type": "code",
   "execution_count": 13,
   "id": "235f1613",
   "metadata": {},
   "outputs": [
    {
     "name": "stdout",
     "output_type": "stream",
     "text": [
      "[!] 2024-12-19 12:53:58 -0500: Tracking as notebook\n"
     ]
    }
   ],
   "source": [
    "if is_notebook():\n",
    "    timestamp(\"Tracking as notebook\", \"warning\")\n",
    "    os.environ['s_config'] =  'config/Ares-Sec-Red.yaml'\n",
    "    os.environ['s_bypass'] = str(False)"
   ]
  },
  {
   "cell_type": "code",
   "execution_count": 14,
   "id": "e195afe2-48ce-4ff3-bfd5-b11a51f787d2",
   "metadata": {},
   "outputs": [
    {
     "name": "stdout",
     "output_type": "stream",
     "text": [
      "[+] 2024-12-19 12:54:06 -0500: Loading Script Variables\n",
      "[+] 2024-12-19 12:54:06 -0500: Loading Script Variables - Done\n",
      "[+] 2024-12-19 12:54:06 -0500: logfile: logs/2024.12.19_12.54.06_-0500.log\n",
      "[+] 2024-12-19 12:54:06 -0500: session_config: config/Ares-Sec-Red.yaml\n",
      "[+] 2024-12-19 12:54:06 -0500: session_bypass: True\n"
     ]
    }
   ],
   "source": [
    "logfile = f'logs/{strftime(\"%Y.%m.%d_%H.%M.%S_%z\")}.log'\n",
    "timestamp(\"Loading Script Variables\", \"alert\", logfile)\n",
    "session_config = os.getenv('s_config')\n",
    "if session_config is None:\n",
    "    timestamp(\"Failed to load the config variable (s_config)\\nMake sure to set an OS environment variable for s_config to the path of the config file when running this directly from the Notebook\", \"error\", logfile)\n",
    "try:\n",
    "    session_bypass = eval(os.getenv('s_bypass'))\n",
    "except:\n",
    "    session_bypass = None\n",
    "    timestamp(\"Failed to load the bypass variable (s_bypass)\\nMake sure to set an OS environment variable for s_bypass to either True or False when running this directly from the Notebook\", \"error\", logfile)\n",
    "remove_results = []\n",
    "timestamp(\"Loading Script Variables - Done\", \"alert\", logfile)\n",
    "\n",
    "if session_config is None and session_bypass is None:\n",
    "    raise Exception(\"Failed to load the config file and bypass variable\")\n",
    "\n",
    "timestamp(f\"logfile: {logfile}\", \"alert\", logfile)\n",
    "timestamp(f\"session_config: {session_config}\", \"alert\", logfile)\n",
    "timestamp(f\"session_bypass: {session_bypass}\", \"alert\", logfile)"
   ]
  },
  {
   "cell_type": "markdown",
   "id": "5e48000e-b11c-4e16-9470-573ea1e89576",
   "metadata": {},
   "source": [
    "***Import Yaml Config File***"
   ]
  },
  {
   "cell_type": "code",
   "execution_count": 9,
   "id": "00bd0104-8780-4735-97a3-6826fa60525e",
   "metadata": {},
   "outputs": [
    {
     "name": "stdout",
     "output_type": "stream",
     "text": [
      "[+] 2024-12-19 12:52:07 -0500: Loading Config File\n",
      "[+] 2024-12-19 12:52:07 -0500: Loading Config File - Done\n"
     ]
    }
   ],
   "source": [
    "timestamp(\"Loading Config File\", \"alert\", logfile)\n",
    "with open(session_config, 'r') as file:\n",
    "    config = yaml.safe_load(file)\n",
    "timestamp(\"Loading Config File - Done\", \"alert\", logfile)"
   ]
  },
  {
   "cell_type": "markdown",
   "id": "2b7c651c-da29-4d33-980f-50019e82a450",
   "metadata": {},
   "source": [
    "***Query Config File Meta***"
   ]
  },
  {
   "cell_type": "code",
   "execution_count": 10,
   "id": "925e52cc-d933-4c2d-b7c0-e00a6df1dcd5",
   "metadata": {},
   "outputs": [
    {
     "name": "stdout",
     "output_type": "stream",
     "text": [
      "[+] 2024-12-19 12:52:12 -0500: Process Config File Meta\n",
      "[+] 2024-12-19 12:52:15 -0500: Process Config File Meta - Done\n"
     ]
    }
   ],
   "source": [
    "timestamp(\"Process Config File Meta\", \"alert\", logfile)\n",
    "az(f'account set --subscription {config[\"settings\"][\"subscription\"][\"name\"]}')\n",
    "\n",
    "connection = CloudObj(config[\"settings\"][\"subscription\"][\"name\"],\n",
    "            config[\"settings\"][\"subscription\"][\"id\"],\n",
    "            config[\"settings\"][\"subscription\"][\"tenantId\"],\n",
    "            config[\"settings\"][\"permissions\"][\"hasAccess\"])\n",
    "\n",
    "maintenance = MaintenanceObj(config[\"settings\"][\"maintenance\"][\"start_day\"],\n",
    "            config[\"settings\"][\"maintenance\"][\"end_day\"],\n",
    "            config[\"settings\"][\"maintenance\"][\"start_time\"],\n",
    "            config[\"settings\"][\"maintenance\"][\"end_time\"])\n",
    "timestamp(\"Process Config File Meta - Done\", \"alert\", logfile)"
   ]
  },
  {
   "cell_type": "markdown",
   "id": "9f707145-cd6a-4ca2-80d1-f63ec4e72ef5",
   "metadata": {},
   "source": [
    "***Filter Bypass Process***"
   ]
  },
  {
   "cell_type": "code",
   "execution_count": 16,
   "id": "645f75da-eaf2-4df7-ba3b-567512941465",
   "metadata": {},
   "outputs": [
    {
     "name": "stdout",
     "output_type": "stream",
     "text": [
      "[+] 2024-12-19 12:55:21 -0500: Bypass was enabled\n",
      "[+] 2024-12-19 12:55:21 -0500: Setting Bypass arguments\n",
      "[+] 2024-12-19 12:55:21 -0500: Setting Bypass arguments - Done\n"
     ]
    }
   ],
   "source": [
    "if session_bypass == True:\n",
    "    timestamp(\"Bypass was enabled\", \"alert\", logfile)\n",
    "    timestamp(\"Setting Bypass arguments\", \"alert\", logfile)\n",
    "    maintenance.start_day = 1\n",
    "    maintenance.end_day = 31\n",
    "    maintenance.start_time = \"00:00\"\n",
    "    maintenance.end_time = \"23:59\"\n",
    "    bypass_id = az(\"account show\")[1]['id']\n",
    "    connection.hasAccess.append(az(\"account show\")[1]['id'])\n",
    "    timestamp(\"Setting Bypass arguments - Done\", \"alert\", logfile)"
   ]
  },
  {
   "cell_type": "markdown",
   "id": "3cdb2b80-7b4a-4445-8f88-2f0a97808401",
   "metadata": {},
   "source": [
    "***Main***\n",
    "\n",
    "* **Step (1)** - Validate Connection to Azure\n",
    "* **Step (2)** - Validate the current user connected to Azure is also permissioned via the Config file to run the clean process\n",
    "* **Step (3)** - Validate the Maintenance windows.  Make sure the current runtime of the script falls into the Maintenance window."
   ]
  },
  {
   "cell_type": "code",
   "execution_count": null,
   "id": "72402ce7-f689-4e5d-8ebc-0fa35864db46",
   "metadata": {},
   "outputs": [
    {
     "name": "stdout",
     "output_type": "stream",
     "text": [
      "[+] 2024-12-19 12:55:30 -0500: Processing Azure Subscription Cleanup\n",
      "[+] 2024-12-19 12:55:30 -0500: Validating Connection and Maintenance Window\n",
      "[+] 2024-12-19 12:55:30 -0500: You have access to the subscription and the maintenance window is open.\n",
      "[+] 2024-12-19 12:55:30 -0500: Querying Azure Tenant for Resource Groups\n",
      "[+] 2024-12-19 12:55:33 -0500: Querying Azure Tenant for Resource Groups - Done\n",
      "[+] 2024-12-19 12:55:33 -0500: Processing Cleanup\n"
     ]
    }
   ],
   "source": [
    "timestamp(\"Processing Azure Subscription Cleanup\", \"alert\", logfile)\n",
    "timestamp(\"Validating Connection and Maintenance Window\", \"alert\", logfile)\n",
    "if connection.validate() and connection.validateUser() and maintenance.validate():\n",
    "    timestamp(\"You have access to the subscription and the maintenance window is open.\", \"alert\", logfile)\n",
    "\n",
    "    # Group Removal\n",
    "    timestamp(\"Querying Azure Tenant for Resource Groups\", \"alert\", logfile)\n",
    "    group_scan_exitcode, group_scan_results, group_scan_logs = az(\"group list\")\n",
    "    timestamp(\"Querying Azure Tenant for Resource Groups - Done\", \"alert\", logfile)\n",
    "\n",
    "    timestamp(\"Processing Cleanup\", \"alert\", logfile)\n",
    "    for group in group_scan_results:\n",
    "        current_group_obj = RemovalObj(group[\"name\"],\n",
    "            group[\"type\"],\n",
    "            group[\"name\"])\n",
    "\n",
    "        current_group_removal = az(f'group delete --name \"{current_group_obj.name}\" --yes')\n",
    "\n",
    "        if current_group_removal.exit_code == 0:\n",
    "            current_group_obj.removed = True\n",
    "        else:\n",
    "            current_group_obj.log = current_group_removal.log\n",
    "\n",
    "        current_group_obj.exitcode = current_group_removal.exit_code\n",
    "\n",
    "        remove_results.append(current_group_obj)\n",
    "    timestamp(\"Processing Cleanup - Done\", \"alert\", logfile)\n",
    "    if group_scan_results == []:\n",
    "        timestamp(\"No Resource Groups found to remove\", \"alert\", logfile)\n",
    "else:\n",
    "    timestamp(\"You do not have access to the subscription or the maintenance window is closed.\", \"error\", logfile)\n",
    "timestamp(\"Processing Azure Subscription Cleanup - Done\", \"alert\", logfile)"
   ]
  }
 ],
 "metadata": {
  "kernelspec": {
   "display_name": "venv",
   "language": "python",
   "name": "python3"
  },
  "language_info": {
   "codemirror_mode": {
    "name": "ipython",
    "version": 3
   },
   "file_extension": ".py",
   "mimetype": "text/x-python",
   "name": "python",
   "nbconvert_exporter": "python",
   "pygments_lexer": "ipython3",
   "version": "3.10.15"
  }
 },
 "nbformat": 4,
 "nbformat_minor": 5
}
